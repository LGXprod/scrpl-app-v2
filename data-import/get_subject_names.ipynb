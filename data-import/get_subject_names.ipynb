{
 "cells": [
  {
   "cell_type": "code",
   "execution_count": 5,
   "metadata": {},
   "outputs": [],
   "source": [
    "import os\n",
    "import json"
   ]
  },
  {
   "cell_type": "code",
   "execution_count": 6,
   "metadata": {},
   "outputs": [],
   "source": [
    "subject_code_to_name = {}"
   ]
  },
  {
   "cell_type": "code",
   "execution_count": 7,
   "metadata": {},
   "outputs": [],
   "source": [
    "for filename in os.listdir(\"./subjects/markdown\"):\n",
    "    if not filename.endswith(\".md\"):\n",
    "        continue\n",
    "\n",
    "    subject_code = filename.split(\".\")[0]\n",
    "\n",
    "    # find first line that starts with \"# \"\n",
    "    with open(f\"./subjects/markdown/{filename}\") as f:\n",
    "        for line in f:\n",
    "            if line.startswith(\"# \"):\n",
    "                with open(f\"./subjects/markdown/{filename}\", \"r\") as f:\n",
    "                    subject_code_to_name[subject_code] = (\n",
    "                        line.replace(\"# \", \"\")\n",
    "                        .replace(subject_code, \"\")\n",
    "                        .replace(\":\", \"\")\n",
    "                        .strip()\n",
    "                    )\n",
    "                break"
   ]
  },
  {
   "cell_type": "code",
   "execution_count": 8,
   "metadata": {},
   "outputs": [],
   "source": [
    "# save subject_code_to_name to json with indent = 2\n",
    "with open(\"./subjects/subject_code_to_name.json\", \"w\") as f:\n",
    "    json.dump(subject_code_to_name, f, indent=2)"
   ]
  }
 ],
 "metadata": {
  "kernelspec": {
   "display_name": "py310",
   "language": "python",
   "name": "python3"
  },
  "language_info": {
   "codemirror_mode": {
    "name": "ipython",
    "version": 3
   },
   "file_extension": ".py",
   "mimetype": "text/x-python",
   "name": "python",
   "nbconvert_exporter": "python",
   "pygments_lexer": "ipython3",
   "version": "3.10.13"
  }
 },
 "nbformat": 4,
 "nbformat_minor": 2
}
